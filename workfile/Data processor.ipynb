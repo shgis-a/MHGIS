{
 "cells": [
  {
   "cell_type": "code",
   "execution_count": 2,
   "metadata": {},
   "outputs": [
    {
     "ename": "ModuleNotFoundError",
     "evalue": "No module named 'qgis'",
     "output_type": "error",
     "traceback": [
      "\u001b[0;31m---------------------------------------------------------------------------\u001b[0m",
      "\u001b[0;31mModuleNotFoundError\u001b[0m                       Traceback (most recent call last)",
      "\u001b[0;32m<ipython-input-2-4e8424096e6e>\u001b[0m in \u001b[0;36m<module>\u001b[0;34m\u001b[0m\n\u001b[1;32m      2\u001b[0m \u001b[0;31m# It should be ran in QGIS.\u001b[0m\u001b[0;34m\u001b[0m\u001b[0;34m\u001b[0m\u001b[0;34m\u001b[0m\u001b[0m\n\u001b[1;32m      3\u001b[0m \u001b[0;34m\u001b[0m\u001b[0m\n\u001b[0;32m----> 4\u001b[0;31m \u001b[0;32mfrom\u001b[0m \u001b[0mqgis\u001b[0m\u001b[0;34m.\u001b[0m\u001b[0mcore\u001b[0m \u001b[0;32mimport\u001b[0m \u001b[0;34m*\u001b[0m\u001b[0;34m\u001b[0m\u001b[0;34m\u001b[0m\u001b[0m\n\u001b[0m\u001b[1;32m      5\u001b[0m \u001b[0;32mfrom\u001b[0m \u001b[0mqgis\u001b[0m\u001b[0;34m.\u001b[0m\u001b[0mutils\u001b[0m \u001b[0;32mimport\u001b[0m \u001b[0miface\u001b[0m\u001b[0;34m\u001b[0m\u001b[0;34m\u001b[0m\u001b[0m\n\u001b[1;32m      6\u001b[0m \u001b[0;34m\u001b[0m\u001b[0m\n",
      "\u001b[0;31mModuleNotFoundError\u001b[0m: No module named 'qgis'"
     ]
    }
   ],
   "source": [
    "# This script processes a gejson file and splits it into the directory format needed by the website to work\n",
    "# It should be ran in QGIS.\n",
    "\n",
    "from qgis.core import *\n",
    "from qgis.utils import iface\n",
    "\n",
    "\n",
    "# Code to import csv file, change variables as needed\n",
    "InFlnm='outfile.csv'\n",
    "InDrPth='C:/programming/MHGIS/workfile/'\n",
    "InFlPth=\"file:///\"+InDrPth+InFlnm\n",
    "uri = InFlPth+\"?delimiter=%s&xField=%s&yField=%s\" % (\",\",\"longitude\",\"latitude\")\n",
    "\n",
    "url = \"file:///C:/programming/MHGIS/workfile/outfile.csv\"\n",
    "bh = QgsVectorLayer(uri, InFlnm, \"delimitedtext\")\n",
    "\n",
    "bh.isValid()\n",
    "bh.setCrs(QgsCoordinateReferenceSystem(4326, QgsCoordinateReferenceSystem.EpsgCrsId))\n",
    "QgsProject.instance().addMapLayer(bh)\n",
    "\n",
    "\n",
    "processing.run('qgis:splitvectorlayer', {'INPUT':\"outfile.csv\", 'FIELD':\"region\", 'FILE_TYPE':7, 'OUTPUT':\"C:/programming/MHGIS/workfile/categorised_master\"})"
   ]
  },
  {
   "cell_type": "code",
   "execution_count": 3,
   "metadata": {},
   "outputs": [],
   "source": [
    "# Part 2, run here\n",
    "# \n",
    "\n",
    "import json, os\n",
    "\n",
    "for x in range(14):\n",
    "    \n",
    "    indir = './categorised_master/region_'+str(x)+'.geojson'\n",
    "    \n",
    "    cishanfuli = []\n",
    "        \n",
    "    with open(indir) as infile:\n",
    "        data = json.load(infile)\n",
    "\n",
    "        # Rename files\n",
    "        region = data[\"features\"][0][\"properties\"][\"Region\"]\n",
    "        outdir = './categorised_master/'+region+'.geojson'\n",
    "\n",
    "        # Dump to renamed file\n",
    "        with open(outdir, 'w') as outfile:\n",
    "            json.dump(data, outfile)\n",
    "            \n",
    "        # Create directory if it does not exist \n",
    "        outsplitdir = './categorised_master/'+region+'/'\n",
    "        if not os.path.exists(outsplitdir):\n",
    "            os.makedirs(outsplitdir)\n",
    "            \n",
    "        \n",
    "              "
   ]
  },
  {
   "cell_type": "code",
   "execution_count": 7,
   "metadata": {},
   "outputs": [
    {
     "ename": "ModuleNotFoundError",
     "evalue": "No module named 'qgis'",
     "output_type": "error",
     "traceback": [
      "\u001b[0;31m---------------------------------------------------------------------------\u001b[0m",
      "\u001b[0;31mModuleNotFoundError\u001b[0m                       Traceback (most recent call last)",
      "\u001b[0;32m<ipython-input-7-ffb11fadf41c>\u001b[0m in \u001b[0;36m<module>\u001b[0;34m\u001b[0m\n\u001b[1;32m      1\u001b[0m \u001b[0;31m# Part 3, run in Qgis\u001b[0m\u001b[0;34m\u001b[0m\u001b[0;34m\u001b[0m\u001b[0;34m\u001b[0m\u001b[0m\n\u001b[1;32m      2\u001b[0m \u001b[0;34m\u001b[0m\u001b[0m\n\u001b[0;32m----> 3\u001b[0;31m \u001b[0;32mfrom\u001b[0m \u001b[0mqgis\u001b[0m\u001b[0;34m.\u001b[0m\u001b[0mcore\u001b[0m \u001b[0;32mimport\u001b[0m \u001b[0;34m*\u001b[0m\u001b[0;34m\u001b[0m\u001b[0;34m\u001b[0m\u001b[0m\n\u001b[0m\u001b[1;32m      4\u001b[0m \u001b[0;34m\u001b[0m\u001b[0m\n\u001b[1;32m      5\u001b[0m \u001b[0mlayername\u001b[0m \u001b[0;34m=\u001b[0m \u001b[0;34m\"\"\u001b[0m\u001b[0;34m\u001b[0m\u001b[0;34m\u001b[0m\u001b[0m\n",
      "\u001b[0;31mModuleNotFoundError\u001b[0m: No module named 'qgis'"
     ]
    }
   ],
   "source": [
    "# Part 3, run in Qgis\n",
    "\n",
    "from qgis.core import *\n",
    "\n",
    "layername = \"\"\n",
    "states=[\"Johor\", \"Kedah\", \"Kelantan\", \"Kuala Lumpur\", \"Melaka\", \"Negeri Sembilan\", \"Pahang\", \"Penang\", \"Perak\", \"Perlis\", \"Sabah\", \"Sarawak\", \"Selangor\", \"Terengganu\"]\n",
    "\n",
    "for state in states:\n",
    "    InDrPth='C:/programming/MHGIS/workfile/categorised_master/'+state+'.geojson'\n",
    "    layer = QgsVectorLayer(InDrPth,state,\"ogr\")\n",
    "    QgsProject.instance().addMapLayer(layer)\n",
    "    \n",
    "    outdir=\"C:/programming/MHGIS/workfile/categorised_master/\"+state+\"/\"\n",
    "    processing.run('qgis:splitvectorlayer', {'INPUT':layer, 'FIELD':\"Category\", 'FILE_TYPE':7, 'OUTPUT':outdir})"
   ]
  },
  {
   "cell_type": "code",
   "execution_count": 6,
   "metadata": {},
   "outputs": [],
   "source": [
    "# Part 4, run here\n",
    "import os, json\n",
    "\n",
    "states=[\"Johor\", \"Kedah\", \"Kelantan\", \"Kuala Lumpur\", \"Melaka\", \"Negeri Sembilan\", \"Pahang\", \"Penang\", \"Perak\", \"Perlis\", \"Sabah\", \"Sarawak\", \"Selangor\", \"Terengganu\"]\n",
    "\n",
    "key = {\"慈善福利\": \"cishanfuli\", \"地缘\": \"diyuan\", \"独立中学\": \"dulizhongxue\", \"青年妇女\" : \"qingniaofunu\", \"体育联谊\": \"tiyulianyi\", \"文教\": \"wenjiao\", \"血缘\": \"xueyuan\", \"业缘\": \"yeyuan\", \"综合\": \"zonghe\", \"宗教\": \"zongjiao\"}\n",
    "       \n",
    "\n",
    "for state in states:\n",
    "    indir=\"./categorised_master/\"+state+\"/\"\n",
    "    \n",
    "    \n",
    "    for i in range(10):\n",
    "        inpath=\"./categorised_master/\"+state+\"/category_\"+str(i)+\".geojson\"\n",
    "        if os.path.exists(inpath):\n",
    "            with open(inpath) as infile:\n",
    "                data = json.load(infile)\n",
    "                category = data[\"features\"][0][\"properties\"][\"Category\"]\n",
    "                category_pinyin = key[category]\n",
    "                \n",
    "            outpath=\"./categorised_master/\"+state+\"/\"+category_pinyin+\".json\"\n",
    "            os.rename(inpath, outpath)\n",
    "    \n",
    "                \n",
    "        else:\n",
    "            continue\n",
    "        \n",
    "    \n",
    "    "
   ]
  },
  {
   "cell_type": "code",
   "execution_count": null,
   "metadata": {},
   "outputs": [],
   "source": []
  }
 ],
 "metadata": {
  "kernelspec": {
   "display_name": "Python 3",
   "language": "python",
   "name": "python3"
  },
  "language_info": {
   "codemirror_mode": {
    "name": "ipython",
    "version": 3
   },
   "file_extension": ".py",
   "mimetype": "text/x-python",
   "name": "python",
   "nbconvert_exporter": "python",
   "pygments_lexer": "ipython3",
   "version": "3.6.9"
  }
 },
 "nbformat": 4,
 "nbformat_minor": 4
}
